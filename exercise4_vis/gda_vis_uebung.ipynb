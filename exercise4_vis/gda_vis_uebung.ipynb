{
 "cells": [
  {
   "cell_type": "markdown",
   "metadata": {},
   "source": [
    "# GDA – Übung 4: Visualsierung"
   ]
  },
  {
   "cell_type": "markdown",
   "metadata": {},
   "source": [
    "## Einleitung\n",
    "In dem Hauptteil der heutigen Übung betrachten wir die Methoden *Kernel Density Estimation (KDE)* und *Inverse Distance Weighting (IDW)*. Während Erstere ein Verfahren zur Schätzung der Wahrscheinlichkeitsverteilung einer Zufallsvariablen ist, ist Letzere eine in der GIS-Welt häufig angewandte Interpolationsmethode, um Werte zwischen bekannten Messwerten zu interpolieren. Es geht wie häufig in der Welt hauptsächlich um das erste geographische Gesetz nach Waldo Tobler:  \n",
    "> Everything is related to everything else, but near things are more related than distant things.\n",
    ">\n",
    "> -- <cite>Tobler W., (1970) \"A computer movie simulating urban growth in the Detroit region\". Economic Geography, 46(Supplement): 234–240.</cite>\n",
    "\n",
    "Angenommen, es existiert ein räumliches Phänomen, aber Sie sind (aus wirtschaftlichen oder sonstigen Gründen) nur imstande, einige Punkte zu messen und daher eine Stichprobe zu nehmen, so müssen Sie die dazwischenliegenden Werte interpolieren. Das Ziel der heutigen Übung ist es, beide Verfahren selbstständig zu implementieren. Dabei sollen Sie auch unterschiedliche Kernels anwenden und deren Auswirkungen auf die resultierenden Karten untersuchen. \n",
    "\n",
    "### Dateien\n",
    "Wir verwenden für diese Aufgabe den *Meuse*-Datensatz (siehe http://spatial-analyst.net/book/meusegrids), der von Burrough und McDonnel 1998 erstellt wurde. Der Datensatz umfasst vier Schwermetalle im Oberboden (Einheit: **ppm**) und andere Kovariaten, die entlang des Flusses *Meuse* in der oberen Bodenschicht gemessen wurde. Es scheint so, als ob der Fluss die mit Schwermetall belasteten Sedimente flussabwärts transportieren und entlang des Flusses und im Flussdelta ablagern würde. Im Sinne von Tobler's First Law of Geography dürfte man deshalb erwarten, dass die Schwermetallwerte im ganzen Untersuchungsgebiet nicht gleich verteilt sind.\n",
    "> -- <cite>P.A. Burrough, R.A. McDonnell, 1998. Principles of Geographical Information Systems. Oxford University Press.</cite>\n",
    "\n",
    "In dieser Aufgabe erhalten Sie die folgenden Dateien:\n",
    "* `meuse.json` ein JSON mit Messwerten mit Schwermetallen, die an verschiedenen Puntken entlang des Flusses Meuse aufgezeichnet wurden. Darin sind u.a. folgende Attribute enthalten:\n",
    "  * cadmium: Cd-Gehalt in ppm\n",
    "  * copper: Cu-Gehalt in ppm\n",
    "  * lead: Pb-Gehalt in ppm\n",
    "  * zinc: Zn-Gehalt in ppm\n",
    "  * dist: Distanz zum Ufer der Meuse\n",
    "  * ffreq: jährliche Häufigkeit von Überflutungen\n",
    "  * soil: \n",
    "* `mask.tif` ein leeres Raster im Flussdelta des Untersuchungsgebiet in einer Auflösung von 25 m. Alle Pixel mit dem Wert 1 kennzeichnen Pixel innerhalb des Studiengebiets. Alle anderen Werte sind dem `nodata`-Wert zugeordnet und gehören nicht zum Untersuchungsgebiet.\n",
    "* `topomap2m` eine topographische Karte des Untersuchungsgebiets in einer Auflösung von 2 m. Diese dient Ihnen zur Übersicht.\n",
    "\n",
    "Die Dateien sind allesamt im folgenden projizierten CRS gespeichert: **proj4: +init=epsg:28992**\n",
    "\n",
    "\n",
    "### Hilfsfunktionen"
   ]
  },
  {
   "cell_type": "code",
   "execution_count": null,
   "metadata": {},
   "outputs": [],
   "source": [
    "%matplotlib inline\n",
    "import os\n",
    "import matplotlib.pyplot as plt\n",
    "import numpy as np\n",
    "import rasterio\n",
    "import fiona\n",
    "import math\n",
    "import random\n",
    "from pprint import pprint\n",
    "import pandas as pd\n",
    "import geopandas as gpd\n",
    "import json\n",
    "from tqdm import tqdm\n",
    "from mpl_toolkits.axes_grid1 import make_axes_locatable\n",
    "from rasterio.transform import Affine\n",
    "from sklearn.neighbors import NearestNeighbors"
   ]
  },
  {
   "cell_type": "code",
   "execution_count": null,
   "metadata": {},
   "outputs": [],
   "source": [
    "def show_raster_map_grid(array_list, mask=None, data_coordinates=None, dim=None):\n",
    "    \"\"\"\n",
    "    Plots 1 to n arrays next to each other\n",
    "    :param array_list: A list of arrays (images). Has to be a list, can be of length 1 to plot only a single image\n",
    "    :mask (optional): Every array in `array_list` will be multiplied with mask before plotting. \n",
    "    :param data_coordinates: (optional) list of xy coordinate tuples to indicate the place of measurement (in true coords)\n",
    "    :param dim: (optional) Tuple that indicates the ordering of the plots (e.g., dim=(2, 6) creates a 2x6 grid for 12 plots)\n",
    "    :return:\n",
    "    \"\"\"\n",
    "    \n",
    "    # if no ordering provided, arrange all plots in a row\n",
    "    if dim is None:\n",
    "        dim = (1, len(array_list))\n",
    "        \n",
    "    fig, axes = plt.subplots(dim[0], dim[1], figsize=(20, 20))\n",
    "    \n",
    "    # If we only have 1 plot we have to tranform the `axes` into an iterable object\n",
    "    try:\n",
    "        axes[0]\n",
    "    except TypeError:\n",
    "        axes = (axes,)\n",
    "    \n",
    "    # create a plot for every ax in axes\n",
    "    for ix, ax in enumerate(axes):\n",
    "    \n",
    "        array = array_list[ix]\n",
    "        \n",
    "        if mask is None:\n",
    "            mask = np.ones(array.shape)\n",
    "        \n",
    "        im = ax.imshow(array*mask, cmap='hot')  \n",
    "        \n",
    "        # if provided, plot the query points.\n",
    "        # Query points first have to be projected into the image space\n",
    "        if data_coordinates is not None:\n",
    "            rows = []\n",
    "            cols = []\n",
    "            for i in range(len(data_coordinates)):\n",
    "                #https://rasterio.readthedocs.io/en/latest/api/rasterio.transform.html#rasterio.transform.rowcol\n",
    "                rowcol_tuple = rasterio.transform.rowcol(fwd, data_coordinates[i][0], data_coordinates[i][1])\n",
    "                rows.append(rowcol_tuple[0])\n",
    "                cols.append(rowcol_tuple[1]) \n",
    "\n",
    "\n",
    "            ax.scatter(cols, rows, color='b', s=30, marker='x')\n",
    "        \n",
    "        # special trick for colorbar (https://stackoverflow.com/questions/32462881/add-colorbar-to-existing-axis)\n",
    "        divider = make_axes_locatable(ax)\n",
    "        cax = divider.append_axes('right', size='5%', pad=0.05)\n",
    "        fig.colorbar(im, cax=cax, orientation='vertical')\n",
    "\n",
    "    plt.show()\n",
    "        \n",
    "    \n",
    "def compute_distance(coords_1, coords_2):\n",
    "    \"\"\"\n",
    "    Computes the euclidean distance between two coordinates given that they are represented by projected coordinates\n",
    "    :param coord_1: A tuple or list containing a coordinate pair\n",
    "    :param coord_2: A tuple or list containing a coordinate pair\n",
    "    :return: The distance given in the same length dimension as they are stored in the used file\n",
    "    \"\"\"\n",
    "    delta_y = coords_1[0] - coords_2[0]\n",
    "    delta_x = coords_1[1] - coords_2[1]\n",
    "    return math.sqrt(math.pow(delta_x, 2) + math.pow(delta_y, 2))\n",
    "\n",
    "def get_transform(xmax, xmin, ymax, ymin, nb_pixels_x, nb_pixels_y):\n",
    "\n",
    "    # define transformation function\n",
    "    resx = (xmax - xmin) / nb_pixels_x\n",
    "    resy = (ymax - ymin) / nb_pixels_y\n",
    "    fwd = Affine.translation(xmin - resx / 2, ymin - resy / 2) * Affine.scale(resx, resy)\n",
    "\n",
    "    return fwd\n"
   ]
  },
  {
   "cell_type": "markdown",
   "metadata": {},
   "source": [
    "### Daten laden und wichtige Variablen definieren"
   ]
  },
  {
   "cell_type": "code",
   "execution_count": null,
   "metadata": {},
   "outputs": [],
   "source": [
    "# Define important paths\n",
    "meuse_file = os.path.join('data', 'meuse.json')\n",
    "mask_file = os.path.join('data', 'mask.tif')\n",
    "topomap_file = os.path.join('data', 'topomap2m.tif')\n",
    "\n",
    "# Load the data sets\n",
    "meuse = gpd.read_file(meuse_file)\n",
    "mask = rasterio.open(mask_file, 'r')\n",
    "topomap = rasterio.open(topomap_file, 'r')\n",
    "\n",
    "# Read the first band of the ones raster\n",
    "mask_array = mask.read(1)\n",
    "mask_array[mask_array <= 0] = np.nan\n",
    "\n",
    "\n",
    "# Determine other important settings from the input raster\n",
    "no_data = mask.profile['nodata']\n",
    "fwd = mask.profile['transform']\n",
    "crs = mask.profile['crs']"
   ]
  },
  {
   "cell_type": "markdown",
   "metadata": {},
   "source": [
    "### Erkundung der Daten: Look at the data"
   ]
  },
  {
   "cell_type": "code",
   "execution_count": null,
   "metadata": {},
   "outputs": [],
   "source": [
    "fig, ax = plt.subplots(1, 3, figsize=(20,10))\n",
    "\n",
    "rgb_array = [topomap.read(i+1) for i in range(3)]\n",
    "\n",
    "ax[0].imshow(np.stack(rgb_array, axis=-1), cmap='gray')\n",
    "ax[0].set_title('Map of region')\n",
    "ax[1].imshow(mask_array)\n",
    "ax[1].set_title('Mask')\n",
    "meuse.plot(column='zinc', ax=ax[2])\n",
    "ax[2].set_title('Sample locations')"
   ]
  },
  {
   "cell_type": "markdown",
   "metadata": {},
   "source": [
    "### Daten in einfachem Format vorbereiten\n",
    "- __data_coordinates__ ist eine Liste mit (x,y) Koordinatentupeln.\n",
    "- __zinc_data__ ist eine Liste mit den Zinkwerten die an den Punkten gemessen wurden.\n",
    "\n",
    "Die einzelnen Einträge der beiden Variablen gehören jeweils zusammen. Beispiel:\n",
    "data_coordinates[i] sind die Koordinaten an denen zinc_data[i] gemessen wurde."
   ]
  },
  {
   "cell_type": "code",
   "execution_count": null,
   "metadata": {},
   "outputs": [],
   "source": [
    "coords_x = meuse.geometry.x\n",
    "coords_y = meuse.geometry.y\n",
    "zinc_data =  meuse['zinc'].values\n",
    "\n",
    "data_coordinates = list(zip(coords_x, coords_y))\n",
    "data_coordinates"
   ]
  },
  {
   "cell_type": "code",
   "execution_count": null,
   "metadata": {},
   "outputs": [],
   "source": [
    "zinc_data =  meuse['zinc'].values\n",
    "zinc_data"
   ]
  },
  {
   "cell_type": "markdown",
   "metadata": {},
   "source": [
    "# Aufgabe 1: KDE mit Gauss Kernel\n",
    "Implementieren in der Funktion `kde` eine Kernel Density Estimation mit einem Gauss Kernel. Orientieren Sie sich dafür anhand der folgenden Formeln:\n",
    "\n",
    "$$f_h(x) = \\frac{1}{n\\cdot h} \\sum^n_{i=n}K(\\frac{d(x,x_i)}{h})$$\n",
    "\n",
    "\n",
    "$$K(u) = \\frac{1}{\\sqrt{2\\pi}}\\exp(-\\frac{u^2}{2})$$\n",
    "\n",
    "Verwenden sie die Zinkkonzentration als Gewichtung. Wo befinden sich Ihrer Meinung nach die höchsten Konzentrationen an Zink?\n",
    "\n",
    "\n",
    "\n",
    "\n",
    "### Vorgehen:\n",
    "Sehen Sie sich die Hauptfunktion weiter unten an, hier wird auf die Funktion `kde` mit den einzelnen Pixelkoordinaten als Eingangswert zugegriffen. Vervollständigen Sie die Funktion `kde`, sodass für jeden Eingangspixel der Einfluss aller Messwerte basierend auf der obigen Formel berechnet wird.\n",
    "\n",
    "* Iterieren Sie für jeden Pixel durch alle verfügbaren Datenpunkte (`data_coordinates`)\n",
    "* Berechnen Sie den Einfluss eines jeden Datenpunktes mit der KDE Formel oben und summieren Sie diesen Wert für alle verfügbaren Datenpunkte.\n",
    "* Gewichten Sie den Einfluss eines jeden Datenpunktes mit der Höhe der Zink konzentration\n",
    "\n",
    "#### Hinweise:\n",
    "- mask_array beschreibt die Ausdehnung des Studiengebiets in Pixelkoordinaten\n",
    "- Vergessen Sie nicht den Eingangspixel (=`cell_position`) in den Koordinatenraum zu projezieren um die Distanz zu berechnen. Mit der durch rasterio vorgegeben transformation (`fwd`) ist das bereits implementiert und vorbereitet  (https://rasterio.readthedocs.io/en/latest/quickstart.html#dataset-georeferencing).\n"
   ]
  },
  {
   "cell_type": "code",
   "execution_count": null,
   "metadata": {},
   "outputs": [],
   "source": [
    "def kde(cell_position, data_coordinates=data_coordinates, data_values=zinc_data, h=100, pixel_to_coords_transform=fwd):\n",
    "    \"\"\"\n",
    "    Computes the kernel density estimate at a single cell position. \n",
    "    :param pixel_coordinates: A tuple containing the xy coordinates of a single pixel in pixel coordinates.\n",
    "    :param data_points: List of x-y coordinate tuples of the data_values\n",
    "    :param data_values: List of data values used for weighting the results\n",
    "    :param h: Bandwidth parameter\n",
    "    :param fwd: The Affine object by which the forward transformation can be executed\n",
    "    :return: The result that should be written into the corresponding pixel\n",
    "    \"\"\"\n",
    "    # Convert the pixel coordinates to real coordinates by using the fwd transformation\n",
    "    cell_coordinates = pixel_to_coords_transform * cell_position\n",
    "    \n",
    "    # your code here\n",
    "    \n",
    "    \n",
    "    \n",
    "    \n",
    "    \n",
    "    result = np.random.uniform() # replace this by the true value\n",
    "    \n",
    "    return result\n",
    "\n",
    "# test. Der Wert sollte in etwa bei 3.247539587692823e-86 liegen\n",
    "kde((0,2), data_coordinates, zinc_data)"
   ]
  },
  {
   "cell_type": "markdown",
   "metadata": {},
   "source": [
    "### Hauptfunktion Aufgabe 1"
   ]
  },
  {
   "cell_type": "code",
   "execution_count": null,
   "metadata": {},
   "outputs": [],
   "source": [
    "kde_array = np.zeros(mask_array.shape)\n",
    "\n",
    "# Iterate all pixels. Pixels outside the mask can be ignored.\n",
    "for y in tqdm(range(mask_array.shape[0])):\n",
    "    for x in range(mask_array.shape[1]):\n",
    "        \n",
    "        if not np.isnan(mask_array[y][x]):\n",
    "            kde_array[y][x] = kde((x, y))\n",
    "            \n",
    "        else:\n",
    "            kde_array[y][x] = -1\n",
    "            \n",
    "show_raster_map_grid([kde_array], mask_array, data_coordinates=data_coordinates)"
   ]
  },
  {
   "cell_type": "markdown",
   "metadata": {},
   "source": [
    "# Aufgabe 2: Inverse Distance Weighting\n",
    "Implementieren sie IDW anhand der folgenden Formeln:\n",
    "\n",
    "\n",
    "\n",
    "\n",
    "$$ u(x) =  \\begin{cases} \n",
    "      \\frac{\\sum_{i=1}^n w_i(x)\\cdot u_i}{\\sum^N_{i=1} w_i(x)} & if d(x,x_i) = 0  \\\\\n",
    "      u_i & if d(x,x_i) = 0 \n",
    "   \\end{cases}\n",
    "$$\n",
    "\n",
    "$$ w_i(x) = \\frac{1}{d(x, x_i)^p}$$\n",
    "\n",
    "\n",
    "\n",
    "Verwenden sie die Zinkkonzentration als Gewichtung. Wo befinden sich Ihrer Meinung nach die höchsten Konzentrationen an Zink?"
   ]
  },
  {
   "cell_type": "code",
   "execution_count": null,
   "metadata": {},
   "outputs": [],
   "source": [
    "def idw(cell_position, data_coordinates=data_coordinates, data_values=zinc_data,  p=2, pixel_to_coords_transform=fwd):\n",
    "    \"\"\"\n",
    "    Computes the value at a single pixel position using inverse distance weighting.\n",
    "    :param pixel_coordinates: A tuple containing the xy coordinates of a single pixel in pixel coordinates.\n",
    "    :param data_points: List of x-y coordinate tuples of the data_values\n",
    "    :param data_values: List of data values used for weighting the results\n",
    "    :param p: Distance decay paramter\n",
    "    :param fwd: The Affine object by which the forward transformation can be executed\n",
    "    :return: The result that should be written into the corresponding pixel\n",
    "    \"\"\"\n",
    "    \n",
    "    # Convert the pixel coordinates to real coordinates by using the fwd transformation\n",
    "    cell_coordinates = pixel_to_coords_transform * cell_position\n",
    "    \n",
    "    # your code here\n",
    "    \n",
    "    \n",
    "    \n",
    "    \n",
    "    \n",
    "    result = np.random.uniform() # replace this by the true value\n",
    "    \n",
    "    return result\n",
    "\n",
    "\n",
    "# Test, value should be close to 518.8726477986377\n",
    "idw((0,2), data_coordinates, zinc_data)"
   ]
  },
  {
   "cell_type": "markdown",
   "metadata": {},
   "source": [
    "### Hauptfunktion Aufgabe 2\n",
    "Erstellen Sie ähnlich wie in Aufgabe 1 eine neue Matrix und Berechnen Sie die Werte aller Pixel mit IDW. Pixel ausserhalb der Maske können ignoriert werden.\n",
    "- Verwenden Sie verschiedene Werte für p. Welchen Einfluss hat dieser Paramter und welche Annahmen trifft man mit der Wahl des Paramters?"
   ]
  },
  {
   "cell_type": "code",
   "execution_count": null,
   "metadata": {},
   "outputs": [],
   "source": [
    "idw_array = np.zeros(mask_array.shape)\n",
    "\n",
    "# Iterate through the ones array and consider just the values which are not no_data\n",
    "for y in tqdm(range(mask_array.shape[0])):\n",
    "    for x in range(mask_array.shape[1]):\n",
    "        \n",
    "        if mask_array[y][x] != 0:\n",
    "            idw_array[y][x] = idw((x, y), p=4)\n",
    "            \n",
    "        \n",
    "        else:\n",
    "            idw_array[y][x] = -1\n",
    "            \n",
    "show_raster_map_grid([kde_array], mask_array, data_coordinates=data_coordinates)"
   ]
  },
  {
   "cell_type": "markdown",
   "metadata": {},
   "source": [
    "### Aufgabe 3: Vergleich und Verständnis für Hyperparameter\n",
    "Übergeben Sie der Funktion `show_raster_map_grid` eine Liste mit mehreren Matrizen aus dem Studiengebiet, um sie nebeneinander darzustellen und zu vergleichen.\n",
    "- Was sind die Unterschiede der beiden Methoden?\n",
    "- Welche würden Sie wofür verwenden? \n",
    "- Wenn Sie einen Ort mit einer möglichst geringen Zinkkonzentration suchen, welche Methode ist besser geeignet?"
   ]
  },
  {
   "cell_type": "code",
   "execution_count": null,
   "metadata": {
    "scrolled": false
   },
   "outputs": [],
   "source": [
    "show_raster_map_grid([kde_array, idw_array], mask_array, data_coordinates=data_coordinates)\n",
    "\n"
   ]
  },
  {
   "cell_type": "markdown",
   "metadata": {},
   "source": [
    "# Aufgabe 4: Heatmaps für Trajektorien (Bonus)\n",
    "In den letzten Übungen haben wir uns mit Trajektoriendaten beschäftigt. Das Zeichnen einer grossen Menge an Trajektoriendaten wird in der Praxis schnell unübersichtlich. Hier sind Beispieldaten aus dem Geolife Datensatz. Die ist ein GPS Datensatz, bei dem die Bewegungen von Mitarbeitern von Microsoft Research in Peking über mehrere Monate hinweg aufgezeichnet wurden. Der Datensatz ist [frei verfügbar](https://www.microsoft.com/en-us/download/details.aspx?id=52367).\n",
    "\n",
    "Der folgende Abschnitt zeichnet alle Trajektorien leicht durchsichtig übereinander (Alpha Blending).\n",
    "- Können Sie erkennen, welches Cluster am relevantesten ist?"
   ]
  },
  {
   "cell_type": "code",
   "execution_count": null,
   "metadata": {},
   "outputs": [],
   "source": [
    "crs_wgs = 'epsg:4326'\n",
    "crs_2D = 'epsg:32650'\n",
    "tpls_all = gpd.read_file(os.path.join('data','shp', 'geolife_triplegs.shp'))\n",
    "tpls_all = tpls_all.to_crs(crs_2D)\n",
    "\n",
    "xmin = 420000\n",
    "xmax = 466000\n",
    "ymin = 4450000\n",
    "ymax = 4400000\n",
    "\n",
    "tpls_all.plot(figsize=(12,12), alpha=0.3)\n",
    "plt.xlim((xmin, xmax))\n",
    "plt.ylim((ymin, ymax))"
   ]
  },
  {
   "cell_type": "markdown",
   "metadata": {},
   "source": [
    "### 4.1 Tranformation der Trajektoriendaten\n",
    "KDE kann auch für die Visualisierung von Trajektoriendaten verwendet werden. Eine Möglichkeit ist dabei, die Trajektorie in regelmässigen Abständen abzutasten und auf den Abtastpunkten das gleiche KDE-Verfahren wie in Aufgabe 1 anzuwenden. Für diese Übung können Sie annehmen, dass die Trajektorien bereits regelmässig gesampled wurden. Sie können also direkt die Trajektorien aus dem  Geopandas Dataframe in eine Liste mit Koordinatentupeln transformieren und Ihre oben implementierten Funktion übergeben.\n",
    "\n",
    "__Achtung__: Bei Trajektorien sammeln sich schnell grosse Datenmengen an! Nutzen Sie `tpls_all.sample(10)`, um ihren Code  mit wenigen Daten effizient zu testen.\n",
    "__Achtung II__: Wenn Sie den Code später mit mehr Trajektorien ausprobieren wollen, müssen Sie hier mehr Trajektorien samplen.\n"
   ]
  },
  {
   "cell_type": "code",
   "execution_count": null,
   "metadata": {
    "scrolled": false
   },
   "outputs": [],
   "source": [
    "tpls = tpls_all.sample(5)\n",
    "\n",
    "# your code here\n",
    "    \n",
    "    \n"
   ]
  },
  {
   "cell_type": "markdown",
   "metadata": {},
   "source": [
    "### 4.2 KDE Berechnung\n",
    "Wenn die Punkte aus den Trajektorien extrahiert wurden, können wir das KDE ähnlich wie in der Hauptfunktion von Aufgabe 1 berechnen.\n",
    "\n",
    "#### Hinweise: \n",
    "- Sie können die Auflösung (über die Anzahl an Pixeln in x und y Richtung selbst definieren. Benutzen Sie zu Beginn maximal eine Auflösung von 30x30. Wenn Ihr Code funktioniert, können Sie die Auflösung erhöhen. Eine Erhöhung übersteigt schnell die Rechenzeit!\n",
    "- Für den neuen Datensatz brauchen wir später eine neue Pixel-zu-Koordinaten Transformationsfunktion. Diese haben wir Ihnen bereits vorgegeben.\n",
    "- Nutzen Sie unbedingt tqdm(range(nb_pixels_y)) in der äussersten Schleife um ein Gefühl für die Rechenzeit des Algorithmus zu bekommen.\n"
   ]
  },
  {
   "cell_type": "code",
   "execution_count": null,
   "metadata": {},
   "outputs": [],
   "source": [
    "# create transformation\n",
    "\n",
    "nb_pixels_x = 30\n",
    "nb_pixels_y = 30\n",
    "\n",
    "\n",
    "fwd_geolife = get_transform(xmax, xmin, ymax, ymin, nb_pixels_x, nb_pixels_y)\n",
    "\n",
    "# init\n",
    "kde_array_traj = np.zeros((nb_pixels_x ,nb_pixels_y)) \n",
    "\n",
    "# your code here\n",
    "        "
   ]
  },
  {
   "cell_type": "markdown",
   "metadata": {},
   "source": [
    "###  Aufgabe 5: Effiziente Kernel Density Estimation mithilfe des Nearest Neighbours Algorithmus\n",
    "Sie werden bei der Aufgabe festgestellt haben, dass die Rechenzeit bereits für nur 10 Trajektorien und eine sehr grobe räumliche Auflösung hoch ist. Das liegt vor allem an der ineffizienten Berechnung. In unserer `kde` Funktion wird für jeden Pixel jeder verfügbare Datenpunkt angesehen und fliesst mit in die Berechnung ein, egal wie weit er weg ist. Diese Genauigkeit und Gründlichkeit hat in der Praxis kaum Vorteile, da die nächsten Nachbarn in der Regel den grössten Einfluss haben. Mit einer sehr einfachen Nearest Neighbours basierten Anpassung lässt sich der Rechenaufwand schnell um mehrere Grössenordnungen reduzieren. \n",
    "\n",
    "Hinweise:\n",
    "- Verwenden Sie Klasse [NearestNeighbors](https://scikit-learn.org/stable/modules/generated/sklearn.neighbors.NearestNeighbors.html#sklearn.neighbors.NearestNeighbors) aus dem scikit-learn Modul. Verwenden Sie ein Objekt dieser Klasse um einen Index für die `data_coordinates` zu erstellen.\n",
    "- Im Anschluss können Sie sich über `distances, indices = nbrs.kneighbors(cell_coordinates)` die Distanzen zu den `n` nächsten Nachbarn ausgeben lassen. Im Anschluss können Sie über den Array `distances` iterieren anstatt die Distanz zu allen Datenpunkten auszurechnen.\n"
   ]
  },
  {
   "cell_type": "code",
   "execution_count": null,
   "metadata": {},
   "outputs": [],
   "source": [
    "def kde_nn(cell_position, data_coordinates, nn, h=100, pixel_to_coords_transform=fwd, weight=1):\n",
    "    \"\"\"\n",
    "    Computes the kernel density estimate at a single cell position. \n",
    "    :param pixel_coordinates: A tuple containing the xy coordinates of a single pixel in pixel coordinates.\n",
    "    :param data_points: List of x-y coordinate tuples of the data_values\n",
    "    :param data_values: List of data values used for weighting the results\n",
    "    :param h: Bandwidth parameter\n",
    "    :param fwd: The Affine object by which the forward transformation can be executed\n",
    "    :return: The result that should be written into the corresponding pixel\n",
    "    \"\"\"\n",
    "    # Convert the pixel coordinates to real coordinates by using the fwd transformation\n",
    "    cell_coordinates = pixel_to_coords_transform * cell_position\n",
    "    \n",
    "    # your code here\n",
    "    \n",
    "    \n",
    "    \n",
    "    \n",
    "    \n",
    "    result = np.random.uniform() # replace this by the true value\n",
    "    \n",
    "    return result\n",
    "\n"
   ]
  },
  {
   "cell_type": "markdown",
   "metadata": {},
   "source": [
    "Kopieren Sie hier die Hauptfunktion aus Aufgabe 4 und passen Sie sie so an, dass das NN Objekt erstellt wird und Sie im Anschluss die KDE Werte mit der neuen NN basierten Funktion berechnen können. Für die Visualisierung ist es hilfreich eine logarithmische Skala zu verwenden (z.B. mit `np.log(kde_array_traj_nn+1)`).\n",
    "- Wenn der Test mit wenigen Trajektorien erfolgreich war, können Sie diese Funktion ohne Probleme auf alle Trajektorien Anwenden (Anzahl Pixel langsam steigern).\n",
    "- Können Sie die NN basierte Funktion auch für den Meuse Datensatz anwenden?"
   ]
  },
  {
   "cell_type": "code",
   "execution_count": null,
   "metadata": {},
   "outputs": [],
   "source": [
    "# create transformation\n",
    "\n",
    "nb_pixels_x = 250\n",
    "nb_pixels_y = 250\n",
    "\n",
    "fwd_geolife = get_transform(xmax, xmin, ymax, ymin, nb_pixels_x, nb_pixels_y)\n",
    "\n",
    "kde_array_traj_nn = np.zeros((nb_pixels_x ,nb_pixels_y))\n",
    "\n",
    "# fit nearest neighbours\n",
    "\n",
    "\n",
    "\n",
    "# Iterate through the ones array and consider just the values which are not no_data\n",
    "\n",
    "show_raster_map_grid([np.log(kde_array_traj_nn+1)])\n"
   ]
  },
  {
   "cell_type": "code",
   "execution_count": null,
   "metadata": {},
   "outputs": [],
   "source": []
  }
 ],
 "metadata": {
  "kernelspec": {
   "display_name": "Python 3",
   "language": "python",
   "name": "python3"
  },
  "language_info": {
   "codemirror_mode": {
    "name": "ipython",
    "version": 3
   },
   "file_extension": ".py",
   "mimetype": "text/x-python",
   "name": "python",
   "nbconvert_exporter": "python",
   "pygments_lexer": "ipython3",
   "version": "3.6.10"
  }
 },
 "nbformat": 4,
 "nbformat_minor": 4
}
